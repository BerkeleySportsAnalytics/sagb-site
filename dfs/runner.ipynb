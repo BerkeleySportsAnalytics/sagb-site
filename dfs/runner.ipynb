{
 "cells": [
  {
   "cell_type": "code",
   "execution_count": 23,
   "metadata": {},
   "outputs": [],
   "source": [
    "import pandas as pd\n",
    "from IPython.display import Image, HTML"
   ]
  },
  {
   "cell_type": "code",
   "execution_count": 24,
   "metadata": {},
   "outputs": [],
   "source": [
    "# convert link to html tags \n",
    "def path_to_image_html(path):\n",
    "    return '<img src=\"'+ path + '\" width=\"60\" >'"
   ]
  },
  {
   "cell_type": "code",
   "execution_count": 25,
   "metadata": {},
   "outputs": [
    {
     "name": "stderr",
     "output_type": "stream",
     "text": [
      "C:\\Users\\kunal_tg\\Anaconda3\\lib\\site-packages\\ipykernel_launcher.py:5: UserWarning: DataFrame columns are not unique, some columns will be omitted.\n",
      "  \"\"\"\n"
     ]
    }
   ],
   "source": [
    "path = \"sample1.csv\" # Input CSV\n",
    "data = pd.read_csv(path)\n",
    "games = pd.read_csv('sample2.csv').loc[:,['name','slug']]\n",
    "trans_games = games.set_index('name').T\n",
    "img_dict = trans_games.to_dict('list')\n",
    "images = []"
   ]
  },
  {
   "cell_type": "code",
   "execution_count": 26,
   "metadata": {},
   "outputs": [],
   "source": [
    "for i in data['name']:\n",
    "    images.append(\"https://d2cwpp38twqe55.cloudfront.net/req/202005142/images/players/\" + img_dict.get(i)[0] + \".jpg\")\n",
    "data[\"pic\"] = images\n",
    "pd.set_option('display.max_colwidth', -1)"
   ]
  },
  {
   "cell_type": "code",
   "execution_count": 27,
   "metadata": {},
   "outputs": [
    {
     "data": {
      "text/html": [
       "<div>\n",
       "<style scoped>\n",
       "    .dataframe tbody tr th:only-of-type {\n",
       "        vertical-align: middle;\n",
       "    }\n",
       "\n",
       "    .dataframe tbody tr th {\n",
       "        vertical-align: top;\n",
       "    }\n",
       "\n",
       "    .dataframe thead th {\n",
       "        text-align: right;\n",
       "    }\n",
       "</style>\n",
       "<table border=\"1\" class=\"dataframe\">\n",
       "  <thead>\n",
       "    <tr style=\"text-align: right;\">\n",
       "      <th></th>\n",
       "      <th>name</th>\n",
       "      <th>team</th>\n",
       "      <th>date</th>\n",
       "      <th>location</th>\n",
       "      <th>opponent</th>\n",
       "      <th>made_two_point_field_goals</th>\n",
       "      <th>made_three_point_field_goals</th>\n",
       "      <th>made_free_throws</th>\n",
       "      <th>rebounds</th>\n",
       "      <th>assists</th>\n",
       "      <th>blocks</th>\n",
       "      <th>steals</th>\n",
       "      <th>turnovers</th>\n",
       "      <th>pic</th>\n",
       "    </tr>\n",
       "  </thead>\n",
       "  <tbody>\n",
       "    <tr>\n",
       "      <th>0</th>\n",
       "      <td>James Harden</td>\n",
       "      <td>HOUSTON ROCKETS</td>\n",
       "      <td>2019-02-02</td>\n",
       "      <td>AWAY</td>\n",
       "      <td>UTAH JAZZ</td>\n",
       "      <td>2.587108</td>\n",
       "      <td>4.00810</td>\n",
       "      <td>7.872058</td>\n",
       "      <td>7.291647</td>\n",
       "      <td>5.59696</td>\n",
       "      <td>0.97310</td>\n",
       "      <td>1.58925</td>\n",
       "      <td>0.97310</td>\n",
       "      <td>https://d2cwpp38twqe55.cloudfront.net/req/202005142/images/players/hardeja01.jpg</td>\n",
       "    </tr>\n",
       "    <tr>\n",
       "      <th>1</th>\n",
       "      <td>Kemba Walker</td>\n",
       "      <td>CHARLOTTE HORNETS</td>\n",
       "      <td>2019-02-02</td>\n",
       "      <td>HOME</td>\n",
       "      <td>CHICAGO BULLS</td>\n",
       "      <td>4.239632</td>\n",
       "      <td>2.28540</td>\n",
       "      <td>2.346222</td>\n",
       "      <td>4.647891</td>\n",
       "      <td>4.25148</td>\n",
       "      <td>0.64966</td>\n",
       "      <td>0.94977</td>\n",
       "      <td>0.64966</td>\n",
       "      <td>https://d2cwpp38twqe55.cloudfront.net/req/202005142/images/players/walkeke02.jpg</td>\n",
       "    </tr>\n",
       "    <tr>\n",
       "      <th>2</th>\n",
       "      <td>John Collins</td>\n",
       "      <td>ATLANTA HAWKS</td>\n",
       "      <td>2019-02-02</td>\n",
       "      <td>AWAY</td>\n",
       "      <td>PHOENIX SUNS</td>\n",
       "      <td>5.261566</td>\n",
       "      <td>1.63056</td>\n",
       "      <td>3.380746</td>\n",
       "      <td>6.633597</td>\n",
       "      <td>2.52020</td>\n",
       "      <td>0.81632</td>\n",
       "      <td>1.15608</td>\n",
       "      <td>0.81632</td>\n",
       "      <td>https://d2cwpp38twqe55.cloudfront.net/req/202005142/images/players/collijo01.jpg</td>\n",
       "    </tr>\n",
       "    <tr>\n",
       "      <th>3</th>\n",
       "      <td>Lou Williams</td>\n",
       "      <td>LOS ANGELES CLIPPERS</td>\n",
       "      <td>2019-02-02</td>\n",
       "      <td>AWAY</td>\n",
       "      <td>DETROIT PISTONS</td>\n",
       "      <td>4.812616</td>\n",
       "      <td>1.98794</td>\n",
       "      <td>5.806998</td>\n",
       "      <td>5.023197</td>\n",
       "      <td>6.34128</td>\n",
       "      <td>0.29984</td>\n",
       "      <td>1.33548</td>\n",
       "      <td>0.29984</td>\n",
       "      <td>https://d2cwpp38twqe55.cloudfront.net/req/202005142/images/players/willilo02.jpg</td>\n",
       "    </tr>\n",
       "    <tr>\n",
       "      <th>4</th>\n",
       "      <td>Karl-Anthony Towns</td>\n",
       "      <td>MINNESOTA TIMBERWOLVES</td>\n",
       "      <td>2019-02-02</td>\n",
       "      <td>HOME</td>\n",
       "      <td>DENVER NUGGETS</td>\n",
       "      <td>4.848712</td>\n",
       "      <td>1.82316</td>\n",
       "      <td>3.601059</td>\n",
       "      <td>8.488032</td>\n",
       "      <td>4.41904</td>\n",
       "      <td>1.33470</td>\n",
       "      <td>0.79911</td>\n",
       "      <td>1.33470</td>\n",
       "      <td>https://d2cwpp38twqe55.cloudfront.net/req/202005142/images/players/townska01.jpg</td>\n",
       "    </tr>\n",
       "  </tbody>\n",
       "</table>\n",
       "</div>"
      ],
      "text/plain": [
       "                 name                    team        date location  \\\n",
       "0  James Harden        HOUSTON ROCKETS         2019-02-02  AWAY      \n",
       "1  Kemba Walker        CHARLOTTE HORNETS       2019-02-02  HOME      \n",
       "2  John Collins        ATLANTA HAWKS           2019-02-02  AWAY      \n",
       "3  Lou Williams        LOS ANGELES CLIPPERS    2019-02-02  AWAY      \n",
       "4  Karl-Anthony Towns  MINNESOTA TIMBERWOLVES  2019-02-02  HOME      \n",
       "\n",
       "          opponent  made_two_point_field_goals  made_three_point_field_goals  \\\n",
       "0  UTAH JAZZ        2.587108                    4.00810                        \n",
       "1  CHICAGO BULLS    4.239632                    2.28540                        \n",
       "2  PHOENIX SUNS     5.261566                    1.63056                        \n",
       "3  DETROIT PISTONS  4.812616                    1.98794                        \n",
       "4  DENVER NUGGETS   4.848712                    1.82316                        \n",
       "\n",
       "   made_free_throws  rebounds  assists   blocks   steals  turnovers  \\\n",
       "0  7.872058          7.291647  5.59696  0.97310  1.58925  0.97310     \n",
       "1  2.346222          4.647891  4.25148  0.64966  0.94977  0.64966     \n",
       "2  3.380746          6.633597  2.52020  0.81632  1.15608  0.81632     \n",
       "3  5.806998          5.023197  6.34128  0.29984  1.33548  0.29984     \n",
       "4  3.601059          8.488032  4.41904  1.33470  0.79911  1.33470     \n",
       "\n",
       "                                                                                pic  \n",
       "0  https://d2cwpp38twqe55.cloudfront.net/req/202005142/images/players/hardeja01.jpg  \n",
       "1  https://d2cwpp38twqe55.cloudfront.net/req/202005142/images/players/walkeke02.jpg  \n",
       "2  https://d2cwpp38twqe55.cloudfront.net/req/202005142/images/players/collijo01.jpg  \n",
       "3  https://d2cwpp38twqe55.cloudfront.net/req/202005142/images/players/willilo02.jpg  \n",
       "4  https://d2cwpp38twqe55.cloudfront.net/req/202005142/images/players/townska01.jpg  "
      ]
     },
     "execution_count": 27,
     "metadata": {},
     "output_type": "execute_result"
    }
   ],
   "source": [
    "data"
   ]
  },
  {
   "cell_type": "code",
   "execution_count": 28,
   "metadata": {},
   "outputs": [],
   "source": [
    "# render dataframe as html\n",
    "html = HTML(data.to_html(escape=False ,formatters=dict(pic=path_to_image_html)))\n",
    "a = html.data\n",
    "# write html to file\n",
    "with open('result.html', 'w') as f:\n",
    "    f.write(a)"
   ]
  }
 ],
 "metadata": {
  "kernelspec": {
   "display_name": "Python 3",
   "language": "python",
   "name": "python3"
  },
  "language_info": {
   "codemirror_mode": {
    "name": "ipython",
    "version": 3
   },
   "file_extension": ".py",
   "mimetype": "text/x-python",
   "name": "python",
   "nbconvert_exporter": "python",
   "pygments_lexer": "ipython3",
   "version": "3.7.1"
  }
 },
 "nbformat": 4,
 "nbformat_minor": 2
}
