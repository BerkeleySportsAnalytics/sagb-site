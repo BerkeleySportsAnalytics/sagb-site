{
 "cells": [
  {
   "cell_type": "code",
   "execution_count": 26,
   "metadata": {},
   "outputs": [],
   "source": [
    "import pandas as pd\n",
    "from IPython.display import Image, HTML"
   ]
  },
  {
   "cell_type": "code",
   "execution_count": 27,
   "metadata": {},
   "outputs": [],
   "source": [
    "# convert link to html tags \n",
    "def path_to_image_html(path):\n",
    "    return '<img src=\"'+ path + '\" width=\"60\" >'"
   ]
  },
  {
   "cell_type": "code",
   "execution_count": 28,
   "metadata": {},
   "outputs": [],
   "source": [
    "dfs = pd.read_csv(\"inputs/dfs.csv\")\n",
    "opt = pd.read_csv(\"inputs/optimal.csv\")\n",
    "st = pd.read_csv(\"inputs/statline.csv\")\n",
    "dfs = dfs.drop(\"Unnamed: 0\", axis=1)\n",
    "opt = opt.drop(\"Unnamed: 0\", axis=1)\n",
    "st = st.drop(\"Unnamed: 0\", axis=1)"
   ]
  },
  {
   "cell_type": "code",
   "execution_count": 29,
   "metadata": {},
   "outputs": [],
   "source": [
    "def gen_page(df, out):\n",
    "    games = pd.read_csv('games.csv').loc[:,['name','slug']]\n",
    "    trans_games = games.set_index('name').T\n",
    "    img_dict = trans_games.to_dict('list')\n",
    "    images = []\n",
    "    for i in df[\"Name\"]:\n",
    "        code = \"https://thumbs.dreamstime.com/b/creative-illustration-default-avatar-profile-placeholder-isolated-background-art-design-grey-photo-blank-template-mockup-144849704.jpg\"\n",
    "        if img_dict.get(i) != None:\n",
    "            code = \"https://d2cwpp38twqe55.cloudfront.net/req/202005142/images/players/\" + img_dict.get(i)[0] + \".jpg\"\n",
    "        images.append(code)\n",
    "    df[\"Picture\"] = images\n",
    "    \n",
    "    cols = df.columns.tolist()\n",
    "    cols = [cols[0]] + cols[-1:] + cols[1:-1]\n",
    "    df = df[cols]\n",
    "    pd.set_option('display.max_colwidth', -1)\n",
    "    df.index +=1\n",
    "    pre = (\n",
    "        \"<head>\\n<script src=\\\"https://kryogenix.org/code/browser/sorttable/sorttable.js\\\"></script>\\n</head>\\n\\n<body>\\n<div id=\\\"filter\\\">\\n<input type=\\\"text\\\" id=\\\"name\\\" onkeyup=\\\"nameSearch()\\\" placeholder=\\\"Search for name...\\\">\\n<input type=\\\"text\\\" id=\\\"team\\\" onkeyup=\\\"teamSearch()\\\" placeholder=\\\"Search for team...\\\">\\n\"\n",
    "        \"<input type=\\\"text\\\" id=\\\"position\\\" onkeyup=\\\"posSearch()\\\" placeholder=\\\"Search for position...\\\">\\n\"\n",
    "        \"</div>\\n\\n\"\n",
    "    )\n",
    "    post = (\n",
    "        \"\\n\"\n",
    "        \"\\n<script src=\\\"main.js\\\"></script>\"\n",
    "        \"\\n</body>\"\n",
    "        )\n",
    "    # render dataframe as html\n",
    "    html = HTML(df.to_html(escape=False ,formatters=dict(Picture=path_to_image_html)))\n",
    "    body = html.data\n",
    "    body = body.replace(\"dataframe\", \"sortable\", 1)\n",
    "    body = body.replace(\"class=\\\"sortable\\\"\", \"id=\\\"tbl\\\" class=\\\"sortable\\\"\", 1)\n",
    "    a = pre + body + post\n",
    "    # write html to file\n",
    "    with open(out, 'w', encoding=\"utf-8\") as f:\n",
    "        f.write(a)"
   ]
  },
  {
   "cell_type": "code",
   "execution_count": 30,
   "metadata": {},
   "outputs": [
    {
     "name": "stderr",
     "output_type": "stream",
     "text": [
      "C:\\Users\\kunal_tg\\Anaconda3\\lib\\site-packages\\ipykernel_launcher.py:4: UserWarning: DataFrame columns are not unique, some columns will be omitted.\n",
      "  after removing the cwd from sys.path.\n"
     ]
    }
   ],
   "source": [
    "gen_page(dfs, 'dfs.html')\n",
    "gen_page(opt, 'opt.html')\n",
    "gen_page(st, 'st.html')"
   ]
  }
 ],
 "metadata": {
  "kernelspec": {
   "display_name": "Python 3",
   "language": "python",
   "name": "python3"
  },
  "language_info": {
   "codemirror_mode": {
    "name": "ipython",
    "version": 3
   },
   "file_extension": ".py",
   "mimetype": "text/x-python",
   "name": "python",
   "nbconvert_exporter": "python",
   "pygments_lexer": "ipython3",
   "version": "3.7.1"
  }
 },
 "nbformat": 4,
 "nbformat_minor": 2
}
