{
 "cells": [
  {
   "cell_type": "code",
   "execution_count": 22,
   "metadata": {},
   "outputs": [],
   "source": [
    "import pandas as pd\n",
    "from IPython.display import Image, HTML"
   ]
  },
  {
   "cell_type": "code",
   "execution_count": 23,
   "metadata": {},
   "outputs": [],
   "source": [
    "# convert link to html tags \n",
    "def path_to_image_html(path):\n",
    "    return '<img src=\"'+ path + '\" width=\"60\" >'"
   ]
  },
  {
   "cell_type": "code",
   "execution_count": 24,
   "metadata": {},
   "outputs": [],
   "source": [
    "path = \"sample1.csv\" # Input CSV\n",
    "data = pd.read_csv(path)\n",
    "games = pd.read_csv('games.csv').loc[:,['name','slug']]\n",
    "trans_games = games.set_index('name').T"
   ]
  },
  {
   "cell_type": "code",
   "execution_count": 25,
   "metadata": {},
   "outputs": [
    {
     "name": "stderr",
     "output_type": "stream",
     "text": [
      "C:\\Users\\kunal_tg\\Anaconda3\\lib\\site-packages\\ipykernel_launcher.py:2: UserWarning: DataFrame columns are not unique, some columns will be omitted.\n",
      "  \n"
     ]
    }
   ],
   "source": [
    "# Add images\n",
    "img_dict = trans_games.to_dict('list')\n",
    "images = []\n",
    "for i in data['name']:\n",
    "    images.append(\"https://d2cwpp38twqe55.cloudfront.net/req/202005142/images/players/\" + img_dict.get(i)[0] + \".jpg\")\n",
    "data[\"pic\"] = images\n",
    "pd.set_option('display.max_colwidth', -1)"
   ]
  },
  {
   "cell_type": "code",
   "execution_count": 26,
   "metadata": {},
   "outputs": [],
   "source": [
    "# Change index\n",
    "data.index += 1"
   ]
  },
  {
   "cell_type": "code",
   "execution_count": 27,
   "metadata": {},
   "outputs": [],
   "source": [
    "pre = \"<head>\\n<script src=\\\"https://kryogenix.org/code/browser/sorttable/sorttable.js\\\"></script>\\n</head>\\n\\n<body>\\n<div id=\\\"filter\\\">\\n<input type=\\\"text\\\" id=\\\"name\\\" onkeyup=\\\"nameSearch()\\\" placeholder=\\\"Search for name...\\\">\\n<input type=\\\"text\\\" id=\\\"team\\\" onkeyup=\\\"teamSearch()\\\" placeholder=\\\"Search for team...\\\">\\n</div>\\n\\n\"\n",
    "post = (\n",
    "    \"\\n\"\n",
    "    \"\\n<script src=\\\"main.js\\\"></script>\"\n",
    "    \"\\n</body>\"\n",
    "    )"
   ]
  },
  {
   "cell_type": "code",
   "execution_count": 28,
   "metadata": {},
   "outputs": [],
   "source": [
    "# render dataframe as html\n",
    "html = HTML(data.to_html(escape=False ,formatters=dict(pic=path_to_image_html)))\n",
    "body = html.data\n",
    "body = body.replace(\"dataframe\", \"sortable\", 1)\n",
    "body = body.replace(\"class=\\\"sortable\\\"\", \"id=\\\"tbl\\\" class=\\\"sortable\\\"\", 1)\n",
    "a = pre + body + post\n",
    "# write html to file\n",
    "with open('result.html', 'w') as f:\n",
    "    f.write(a)"
   ]
  }
 ],
 "metadata": {
  "kernelspec": {
   "display_name": "Python 3",
   "language": "python",
   "name": "python3"
  },
  "language_info": {
   "codemirror_mode": {
    "name": "ipython",
    "version": 3
   },
   "file_extension": ".py",
   "mimetype": "text/x-python",
   "name": "python",
   "nbconvert_exporter": "python",
   "pygments_lexer": "ipython3",
   "version": "3.7.1"
  }
 },
 "nbformat": 4,
 "nbformat_minor": 2
}
