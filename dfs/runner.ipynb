{
 "cells": [
  {
   "cell_type": "code",
   "execution_count": 1,
   "metadata": {},
   "outputs": [],
   "source": [
    "import pandas as pd\n",
    "from IPython.display import Image, HTML\n",
    "from datetime import datetime"
   ]
  },
  {
   "cell_type": "code",
   "execution_count": 2,
   "metadata": {},
   "outputs": [],
   "source": [
    "# convert link to html tags \n",
    "def path_to_image_html(path):\n",
    "    return '<img src=\"'+ path + '\" width=\"60\" >'"
   ]
  },
  {
   "cell_type": "code",
   "execution_count": 3,
   "metadata": {},
   "outputs": [],
   "source": [
    "dfs = pd.read_csv(\"inputs/dfs.csv\")\n",
    "fd = pd.read_csv(\"inputs/fanduel.csv\")\n",
    "dk = pd.read_csv(\"inputs/draftkings.csv\")\n",
    "st = pd.read_csv(\"inputs/statline.csv\")\n",
    "dfs = dfs.drop(\"Unnamed: 0\", axis=1)\n",
    "fd = fd.drop(\"Unnamed: 0\", axis=1)\n",
    "dk = dk.drop(\"Unnamed: 0\", axis=1)\n",
    "st = st.drop(\"Unnamed: 0\", axis=1)"
   ]
  },
  {
   "cell_type": "code",
   "execution_count": 4,
   "metadata": {},
   "outputs": [],
   "source": [
    "ts = datetime.now()\n",
    "ts = ts.strftime(\"%b %d, %Y %I:%M %p\")\n",
    "ts = \"Last Updated: \" + ts"
   ]
  },
  {
   "cell_type": "code",
   "execution_count": 5,
   "metadata": {},
   "outputs": [],
   "source": [
    "def highlight_dfs(df):\n",
    "    if df.Hot > 0.0 and df.Hot < 0.5: return ['background-color: #ff9999']*19\n",
    "    elif df.Hot >= 0.5 and df.Hot < 1.0: return ['background-color: #ff6666']*19\n",
    "    elif df.Hot >= 1.0 and df.Hot < 1.5: return ['background-color: #ff3333']*19\n",
    "    elif df.Hot >= 1.5: return ['background-color: #ff0000']*19\n",
    "    elif df.Cold > 0.0 and df.Cold < 0.5: return ['background-color: #99e6ff']*19\n",
    "    elif df.Cold >= 0.5 and df.Cold < 1.0: return ['background-color: #66d9ff']*19\n",
    "    elif df.Cold >= 1.0 and df.Cold < 1.5: return ['background-color: #33ccff']*19\n",
    "    elif df.Cold >= 1.5: return ['background-color: #00bfff']*19\n",
    "    else: return ['background-color: white']*19"
   ]
  },
  {
   "cell_type": "code",
   "execution_count": 10,
   "metadata": {},
   "outputs": [],
   "source": [
    "def highlight_fd(df):\n",
    "    if df.Hot > 0.0 and df.Hot < 0.5: return ['background-color: #ff9999']*14\n",
    "    elif df.Hot >= 0.5 and df.Hot < 1.0: return ['background-color: #ff6666']*14\n",
    "    elif df.Hot >= 1.0 and df.Hot < 1.5: return ['background-color: #ff3333']*14\n",
    "    elif df.Hot >= 1.5: return ['background-color: #ff0000']*14\n",
    "    elif df.Cold > 0.0 and df.Cold < 0.5: return ['background-color: #99e6ff']*14\n",
    "    elif df.Cold >= 0.5 and df.Cold < 1.0: return ['background-color: #66d9ff']*14\n",
    "    elif df.Cold >= 1.0 and df.Cold < 1.5: return ['background-color: #33ccff']*14\n",
    "    elif df.Cold >= 1.5: return ['background-color: #00bfff']*14\n",
    "    else: return ['background-color: white']*14"
   ]
  },
  {
   "cell_type": "code",
   "execution_count": 7,
   "metadata": {},
   "outputs": [],
   "source": [
    "def gen_page(df, out, coloring):\n",
    "    games = pd.read_csv('games.csv').loc[:,['name','slug']]\n",
    "    trans_games = games.set_index('name').T\n",
    "    img_dict = trans_games.to_dict('list')\n",
    "    images = []\n",
    "    for i in df[\"Name\"]:\n",
    "        code = \"https://thumbs.dreamstime.com/b/creative-illustration-default-avatar-profile-placeholder-isolated-background-art-design-grey-photo-blank-template-mockup-144849704.jpg\"\n",
    "        if img_dict.get(i) != None:\n",
    "            code = \"https://d2cwpp38twqe55.cloudfront.net/req/202005142/images/players/\" + img_dict.get(i)[0] + \".jpg\"\n",
    "        images.append(code)\n",
    "    images = ['<img src=\"' + image + '\" width=\"60\">' for image in images]\n",
    "    df[\"Picture\"] = images\n",
    "    \n",
    "    cols = df.columns.tolist()\n",
    "    cols = [cols[0]] + cols[-1:] + cols[1:-1]\n",
    "    df = df[cols]\n",
    "    pd.set_option('display.max_colwidth', -1)\n",
    "    df.index +=1\n",
    "    pre = (\n",
    "        \"<head>\\n<script src=\\\"https://kryogenix.org/code/browser/sorttable/sorttable.js\\\"></script>\\n\"\n",
    "        \"<link rel=\\\"stylesheet\\\" href=\\\"df_styles.css\\\">\\n</head>\\n\"\n",
    "    )\n",
    "    pre = pre + ts + \"\\n\"\n",
    "    pre += (\n",
    "        \"\\n<body>\\n<div id=\\\"filter\\\">\\n<input type=\\\"text\\\" id=\\\"name\\\" onkeyup=\\\"nameSearch()\\\" placeholder=\\\"Search for name...\\\">\\n\"\n",
    "        \"<input type=\\\"text\\\" id=\\\"team\\\" onkeyup=\\\"teamSearch()\\\" placeholder=\\\"Search for team...\\\">\\n\"\n",
    "        \"<input type=\\\"text\\\" id=\\\"position\\\" onkeyup=\\\"posSearch()\\\" placeholder=\\\"Search for position...\\\">\\n\"\n",
    "        \"</div>\\n\\n\"\n",
    "    )\n",
    "    \n",
    "    post = (\n",
    "        \"\\n\"\n",
    "        \"\\n<script src=\\\"main.js\\\"></script>\"\n",
    "        \"\\n</body>\"\n",
    "        )\n",
    "    # render dataframe as html\n",
    "    if coloring is not None:\n",
    "        body = df.style.apply(coloring, axis=1).render()\n",
    "    else:\n",
    "        html = HTML(df.to_html(escape=False ,formatters=dict(Picture=path_to_image_html)))\n",
    "        body = html.data\n",
    "\n",
    "    body = body.replace(\"dataframe\", \"sortable\", 1)\n",
    "    body = body.replace(\"class=\\\"sortable\\\"\", \"id=\\\"tbl\\\" class=\\\"sortable\\\"\", 1)\n",
    "    a = pre + body + post\n",
    "    # write html to file\n",
    "    with open(out, 'w', encoding=\"utf-8\") as f:\n",
    "        f.write(a)"
   ]
  },
  {
   "cell_type": "code",
   "execution_count": 11,
   "metadata": {},
   "outputs": [
    {
     "name": "stderr",
     "output_type": "stream",
     "text": [
      "/opt/anaconda3/lib/python3.7/site-packages/ipykernel_launcher.py:4: UserWarning: DataFrame columns are not unique, some columns will be omitted.\n",
      "  after removing the cwd from sys.path.\n",
      "/opt/anaconda3/lib/python3.7/site-packages/ipykernel_launcher.py:17: FutureWarning: Passing a negative integer is deprecated in version 1.0 and will not be supported in future version. Instead, use None to not limit the column width.\n",
      "/opt/anaconda3/lib/python3.7/site-packages/ipykernel_launcher.py:4: UserWarning: DataFrame columns are not unique, some columns will be omitted.\n",
      "  after removing the cwd from sys.path.\n",
      "/opt/anaconda3/lib/python3.7/site-packages/ipykernel_launcher.py:17: FutureWarning: Passing a negative integer is deprecated in version 1.0 and will not be supported in future version. Instead, use None to not limit the column width.\n"
     ]
    }
   ],
   "source": [
    "gen_page(dfs, 'dfs.html', highlight_dfs)\n",
    "gen_page(fd, 'fd.html', highlight_fd)\n",
    "gen_page(dk, 'dk.html', None)\n",
    "gen_page(st, 'st.html', None)"
   ]
  }
 ],
 "metadata": {
  "kernelspec": {
   "display_name": "Python 3",
   "language": "python",
   "name": "python3"
  },
  "language_info": {
   "codemirror_mode": {
    "name": "ipython",
    "version": 3
   },
   "file_extension": ".py",
   "mimetype": "text/x-python",
   "name": "python",
   "nbconvert_exporter": "python",
   "pygments_lexer": "ipython3",
   "version": "3.7.6"
  }
 },
 "nbformat": 4,
 "nbformat_minor": 2
}
